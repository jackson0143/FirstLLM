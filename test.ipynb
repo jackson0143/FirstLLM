{
 "cells": [
  {
   "cell_type": "code",
   "execution_count": null,
   "metadata": {},
   "outputs": [],
   "source": []
  },
  {
   "cell_type": "code",
   "execution_count": 1,
   "metadata": {},
   "outputs": [
    {
     "data": {
      "text/plain": [
       "'cuda'"
      ]
     },
     "execution_count": 1,
     "metadata": {},
     "output_type": "execute_result"
    }
   ],
   "source": [
    "import torch\n",
    "import time\n",
    "import numpy as np\n",
    "device= 'cuda' if torch.cuda.is_available() else 'cpu'\n",
    "device"
   ]
  },
  {
   "cell_type": "code",
   "execution_count": 4,
   "metadata": {},
   "outputs": [
    {
     "name": "stdout",
     "output_type": "stream",
     "text": [
      "torch time: 0.030534982681274414 seconds\n",
      "numpy time: 0.3213059902191162 seconds\n"
     ]
    }
   ],
   "source": [
    "torch_rand = torch.rand(100, 100,100,100).to(device)\n",
    "tord_rand_2 = torch.rand(100, 100,100,100).to(device)\n",
    "np_rand = np.random.rand(100, 100,100,100)\n",
    "np_rand_2 = np.random.rand(100, 100,100,100)\n",
    "\n",
    "start_time = time.time()\n",
    "\n",
    "rand = torch_rand @ tord_rand_2\n",
    "end_time = time.time()\n",
    "elapsed_time = end_time - start_time\n",
    "print(f\"torch time: {elapsed_time} seconds\")\n",
    "\n",
    "start_time = time.time()\n",
    "rand=np.multiply(np_rand, np_rand_2)\n",
    "end_time = time.time()\n",
    "elapsed_time = end_time - start_time\n",
    "print(f\"numpy time: {elapsed_time} seconds\")\n",
    "\n",
    "\n",
    "\n",
    "\n",
    "\n",
    "\n",
    "\n",
    "\n",
    "\n"
   ]
  },
  {
   "cell_type": "code",
   "execution_count": 8,
   "metadata": {},
   "outputs": [
    {
     "name": "stdout",
     "output_type": "stream",
     "text": [
      "torch time: 0.0 seconds\n",
      "CPU times: total: 0 ns\n",
      "Wall time: 1 ms\n"
     ]
    }
   ],
   "source": [
    "%%time\n",
    "start_time= time.time()\n",
    "zeros=torch.zeros(1,1)\n",
    "end_time =  time.time()\n",
    "elapsed_time = end_time - start_time\n",
    "print(f\"torch time: {elapsed_time} seconds\")    \n",
    "\n",
    "\n",
    "\n",
    "\n",
    "\n"
   ]
  }
 ],
 "metadata": {
  "language_info": {
   "name": "python"
  }
 },
 "nbformat": 4,
 "nbformat_minor": 2
}
